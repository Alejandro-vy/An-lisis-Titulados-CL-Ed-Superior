{
 "cells": [
  {
   "cell_type": "markdown",
   "metadata": {},
   "source": [
    "# Análisis Exploratio (EDA)"
   ]
  },
  {
   "cell_type": "markdown",
   "metadata": {},
   "source": [
    "Preguntas objetivos:\n",
    "\n",
    "- ¿Qué carreras tienen mayor cantidad de titulados?\n",
    "- ¿Qué tipo de instituciones generan más titulados?\n",
    "- A que edad promedio se titula una persona de la educación superior? ### no está la cat edad\n",
    "- Cual es el porcentaje de alumnos que terminan la carrera en la duración teórica?\n",
    "- Quién saca más profesionales la RM o regiones?\n"
   ]
  },
  {
   "cell_type": "code",
   "execution_count": 21,
   "metadata": {},
   "outputs": [
    {
     "name": "stdout",
     "output_type": "stream",
     "text": [
      "<class 'pandas.core.frame.DataFrame'>\n",
      "RangeIndex: 297174 entries, 0 to 297173\n",
      "Data columns (total 41 columns):\n",
      " #   Column                   Non-Null Count   Dtype  \n",
      "---  ------                   --------------   -----  \n",
      " 0   cat_periodo              297174 non-null  int64  \n",
      " 1   codigo_unico             297174 non-null  object \n",
      " 2   mrun                     296708 non-null  float64\n",
      " 3   gen_alu                  297174 non-null  int64  \n",
      " 4   fec_nac_alu              297174 non-null  int64  \n",
      " 5   rango_edad               297174 non-null  object \n",
      " 6   anio_ing_carr_ori        297174 non-null  int64  \n",
      " 7   sem_ing_carr_ori         297174 non-null  int64  \n",
      " 8   anio_ing_carr_act        297174 non-null  int64  \n",
      " 9   sem_ing_carr_act         297174 non-null  int64  \n",
      " 10  nomb_titulo_obtenido     264687 non-null  object \n",
      " 11  nomb_grado_obtenido      128331 non-null  object \n",
      " 12  fecha_obtencion_titulo   297174 non-null  int64  \n",
      " 13  tipo_inst_1              297174 non-null  object \n",
      " 14  tipo_inst_2              297174 non-null  object \n",
      " 15  tipo_inst_3              297174 non-null  object \n",
      " 16  cod_inst                 297174 non-null  int64  \n",
      " 17  nomb_inst                297174 non-null  object \n",
      " 18  cod_sede                 297174 non-null  int64  \n",
      " 19  nomb_sede                297174 non-null  object \n",
      " 20  cod_carrera              291422 non-null  float64\n",
      " 21  nomb_carrera             297174 non-null  object \n",
      " 22  nivel_global             297174 non-null  object \n",
      " 23  nivel_carrera_1          297174 non-null  object \n",
      " 24  nivel_carrera_2          297174 non-null  object \n",
      " 25  dur_estudio_carr         297174 non-null  int64  \n",
      " 26  dur_proceso_tit          297174 non-null  int64  \n",
      " 27  dur_total_carr           297174 non-null  int64  \n",
      " 28  region_sede              297174 non-null  object \n",
      " 29  provincia_sede           297174 non-null  object \n",
      " 30  comuna_sede              297174 non-null  object \n",
      " 31  jornada                  297174 non-null  object \n",
      " 32  modalidad                297174 non-null  object \n",
      " 33  version                  291422 non-null  float64\n",
      " 34  tipo_plan_carr           297174 non-null  object \n",
      " 35  area_cineunesco          297174 non-null  object \n",
      " 36  area_cine_f_97           297174 non-null  object \n",
      " 37  subarea_cine_f_97        297174 non-null  object \n",
      " 38  area_cine_f_13           297174 non-null  object \n",
      " 39  subarea_cine_f_13        297174 non-null  object \n",
      " 40  area_carrera_generica_n  297174 non-null  object \n",
      "dtypes: float64(3), int64(13), object(25)\n",
      "memory usage: 93.0+ MB\n",
      "None\n"
     ]
    }
   ],
   "source": [
    "import pandas as pd\n",
    "\n",
    "####### Análisis exploratorio de datos #######\n",
    "\n",
    "### Cargar el dataset ###\n",
    "\n",
    "titulados_2023= pd.read_excel('C:/Users/janov/Desktop/Datasets/Titulados-Ed-Superior-2023/2023.xlsx')\n",
    "\n",
    "#Imprime las primeras 5 filas\n",
    "#print(titulados_2023_Cl.head(5))\n",
    "\n",
    "print(titulados_2023.info())"
   ]
  },
  {
   "cell_type": "code",
   "execution_count": 23,
   "metadata": {},
   "outputs": [
    {
     "name": "stdout",
     "output_type": "stream",
     "text": [
      "<class 'pandas.core.frame.DataFrame'>\n",
      "RangeIndex: 297174 entries, 0 to 297173\n",
      "Data columns (total 11 columns):\n",
      " #   Column                Non-Null Count   Dtype  \n",
      "---  ------                --------------   -----  \n",
      " 0   codigo_unico          297174 non-null  object \n",
      " 1   mrun                  296708 non-null  float64\n",
      " 2   cat_periodo           297174 non-null  int64  \n",
      " 3   anio_ing_carr_act     297174 non-null  int64  \n",
      " 4   nomb_titulo_obtenido  264687 non-null  object \n",
      " 5   nomb_carrera          297174 non-null  object \n",
      " 6   tipo_inst_2           297174 non-null  object \n",
      " 7   dur_total_carr        297174 non-null  int64  \n",
      " 8   dur_estudio_carr      297174 non-null  int64  \n",
      " 9   region_sede           297174 non-null  object \n",
      " 10  gen_alu               297174 non-null  int64  \n",
      "dtypes: float64(1), int64(5), object(5)\n",
      "memory usage: 24.9+ MB\n",
      "None\n"
     ]
    }
   ],
   "source": [
    "# Seleccionar solo las columnas necesarias\n",
    "columnas_utiles = [\"codigo_unico\",\"mrun\",\"cat_periodo\", \"anio_ing_carr_act\", \"nomb_titulo_obtenido\", \"nomb_carrera\", \"tipo_inst_2\",\n",
    "                   \"dur_total_carr\", \"dur_estudio_carr\", \"region_sede\", \"gen_alu\", ]\n",
    "\n",
    "# Filtrar las columnas que existen en el dataframe\n",
    "columnas_existentes = [col for col in columnas_utiles if col in titulados_2023.columns]\n",
    "\n",
    "titulados_2023 = titulados_2023[columnas_existentes]\n",
    "\n",
    "# Verificar cambios\n",
    "print(titulados_2023.info())\n",
    "#print(titulados_2023.head(5))\n"
   ]
  },
  {
   "cell_type": "markdown",
   "metadata": {},
   "source": [
    "# Inspección inicial de los datos"
   ]
  },
  {
   "cell_type": "code",
   "execution_count": 24,
   "metadata": {},
   "outputs": [
    {
     "name": "stdout",
     "output_type": "stream",
     "text": [
      "(297174, 11)\n",
      "###########################\n",
      "<class 'pandas.core.frame.DataFrame'>\n",
      "RangeIndex: 297174 entries, 0 to 297173\n",
      "Data columns (total 11 columns):\n",
      " #   Column                Non-Null Count   Dtype  \n",
      "---  ------                --------------   -----  \n",
      " 0   codigo_unico          297174 non-null  object \n",
      " 1   mrun                  296708 non-null  float64\n",
      " 2   cat_periodo           297174 non-null  int64  \n",
      " 3   anio_ing_carr_act     297174 non-null  int64  \n",
      " 4   nomb_titulo_obtenido  264687 non-null  object \n",
      " 5   nomb_carrera          297174 non-null  object \n",
      " 6   tipo_inst_2           297174 non-null  object \n",
      " 7   dur_total_carr        297174 non-null  int64  \n",
      " 8   dur_estudio_carr      297174 non-null  int64  \n",
      " 9   region_sede           297174 non-null  object \n",
      " 10  gen_alu               297174 non-null  int64  \n",
      "dtypes: float64(1), int64(5), object(5)\n",
      "memory usage: 24.9+ MB\n",
      "None\n"
     ]
    }
   ],
   "source": [
    "print(titulados_2023.shape)  # Número de filas y columnas\n",
    "\n",
    "print(\"###########################\")\n",
    "print(titulados_2023.info())  # Tipo de datos de cada columna"
   ]
  },
  {
   "cell_type": "markdown",
   "metadata": {},
   "source": [
    "# Manejo de nulos"
   ]
  },
  {
   "cell_type": "code",
   "execution_count": 25,
   "metadata": {},
   "outputs": [
    {
     "name": "stdout",
     "output_type": "stream",
     "text": [
      "codigo_unico                0\n",
      "mrun                      466\n",
      "cat_periodo                 0\n",
      "anio_ing_carr_act           0\n",
      "nomb_titulo_obtenido    32487\n",
      "nomb_carrera                0\n",
      "tipo_inst_2                 0\n",
      "dur_total_carr              0\n",
      "dur_estudio_carr            0\n",
      "region_sede                 0\n",
      "gen_alu                     0\n",
      "dtype: int64\n"
     ]
    }
   ],
   "source": [
    "print(titulados_2023.isnull().sum())  # Cantidad de valores nulos\n"
   ]
  },
  {
   "cell_type": "code",
   "execution_count": 28,
   "metadata": {},
   "outputs": [
    {
     "name": "stdout",
     "output_type": "stream",
     "text": [
      "codigo_unico            0\n",
      "mrun                    0\n",
      "cat_periodo             0\n",
      "anio_ing_carr_act       0\n",
      "nomb_titulo_obtenido    0\n",
      "nomb_carrera            0\n",
      "tipo_inst_2             0\n",
      "dur_total_carr          0\n",
      "dur_estudio_carr        0\n",
      "region_sede             0\n",
      "gen_alu                 0\n",
      "dtype: int64\n"
     ]
    }
   ],
   "source": [
    "titulados_2023['nomb_titulo_obtenido'] = titulados_2023['nomb_titulo_obtenido'].fillna('sin informacion')\n",
    "titulados_2023['mrun'] = titulados_2023['mrun'].fillna(-1)\n",
    "\n",
    "# Verificar cambios\n",
    "print(titulados_2023.isnull().sum())\n"
   ]
  },
  {
   "cell_type": "markdown",
   "metadata": {},
   "source": [
    "# Manejo de duplicados"
   ]
  },
  {
   "cell_type": "code",
   "execution_count": 29,
   "metadata": {
    "vscode": {
     "languageId": "ruby"
    }
   },
   "outputs": [
    {
     "name": "stdout",
     "output_type": "stream",
     "text": [
      "Total de filas: 297174\n",
      "Filas duplicadas encontradas: 170\n"
     ]
    }
   ],
   "source": [
    "total_filas = titulados_2023.shape[0]  # Total de filas\n",
    "duplicados = titulados_2023.duplicated().sum()  # Filas duplicadas\n",
    "\n",
    "print(f\"Total de filas: {total_filas}\")\n",
    "print(f\"Filas duplicadas encontradas: {duplicados}\")\n",
    "\n",
    "\n"
   ]
  }
 ],
 "metadata": {
  "kernelspec": {
   "display_name": "Python 3",
   "language": "python",
   "name": "python3"
  },
  "language_info": {
   "codemirror_mode": {
    "name": "ipython",
    "version": 3
   },
   "file_extension": ".py",
   "mimetype": "text/x-python",
   "name": "python",
   "nbconvert_exporter": "python",
   "pygments_lexer": "ipython3",
   "version": "3.12.8"
  }
 },
 "nbformat": 4,
 "nbformat_minor": 2
}
